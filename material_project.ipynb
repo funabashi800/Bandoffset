{
  "nbformat": 4,
  "nbformat_minor": 0,
  "metadata": {
    "colab": {
      "name": "material-project.ipynb",
      "version": "0.3.2",
      "provenance": [],
      "include_colab_link": true
    },
    "kernelspec": {
      "name": "python3",
      "display_name": "Python 3"
    },
    "accelerator": "GPU"
  },
  "cells": [
    {
      "cell_type": "markdown",
      "metadata": {
        "id": "view-in-github",
        "colab_type": "text"
      },
      "source": [
        "<a href=\"https://colab.research.google.com/github/funabashi800/Bandoffset/blob/master/material_project.ipynb\" target=\"_parent\"><img src=\"https://colab.research.google.com/assets/colab-badge.svg\" alt=\"Open In Colab\"/></a>"
      ]
    },
    {
      "metadata": {
        "id": "65herT-lZGb2",
        "colab_type": "code",
        "colab": {}
      },
      "cell_type": "code",
      "source": [
        "# filter warnings messages from the notebook\n",
        "import warnings\n",
        "warnings.filterwarnings('ignore')\n",
        "\n",
        "import numpy as np\n",
        "import pandas as pd\n",
        "\n",
        "# Set pandas view options\n",
        "pd.set_option('display.width', 1000)\n",
        "pd.set_option('display.max_columns', None)\n",
        "pd.set_option('display.max_rows', None)"
      ],
      "execution_count": 0,
      "outputs": []
    },
    {
      "metadata": {
        "id": "ZwhKhwPY30dJ",
        "colab_type": "code",
        "colab": {
          "base_uri": "https://localhost:8080/",
          "height": 2361
        },
        "outputId": "e3ec8c01-55f1-4318-a22e-b39e4b02b523"
      },
      "cell_type": "code",
      "source": [
        "!pip install matminer"
      ],
      "execution_count": 6,
      "outputs": [
        {
          "output_type": "stream",
          "text": [
            "Collecting matminer\n",
            "\u001b[?25l  Downloading https://files.pythonhosted.org/packages/7a/ce/f20373cab5aa88de19f21e387395e0aed93d2f76900a475c0601dce4a7e7/matminer-0.4.3.tar.gz (4.1MB)\n",
            "\u001b[K    100% |████████████████████████████████| 4.1MB 1.2MB/s \n",
            "\u001b[?25hCollecting pymatgen>=2018.8.7 (from matminer)\n",
            "\u001b[?25l  Downloading https://files.pythonhosted.org/packages/41/3b/eed9cdf7ffc51f0b3b71d68d9f7c1f0da483b3f06d3d74102f01346137a3/pymatgen-2018.10.18.tar.gz (2.0MB)\n",
            "\u001b[K    100% |████████████████████████████████| 2.0MB 11.9MB/s \n",
            "\u001b[?25hRequirement already satisfied: tqdm>=4.14.0 in /usr/local/lib/python3.6/dist-packages (from matminer) (4.28.1)\n",
            "Requirement already satisfied: pandas>=0.20.1 in /usr/local/lib/python3.6/dist-packages (from matminer) (0.22.0)\n",
            "Collecting pymongo>=3.4.0 (from matminer)\n",
            "\u001b[?25l  Downloading https://files.pythonhosted.org/packages/b1/45/5440555b901a8416196fbf2499c4678ef74de8080c007104107a8cfdda20/pymongo-3.7.2-cp36-cp36m-manylinux1_x86_64.whl (408kB)\n",
            "\u001b[K    100% |████████████████████████████████| 409kB 24.8MB/s \n",
            "\u001b[?25hCollecting pint>=0.8.1 (from matminer)\n",
            "\u001b[?25l  Downloading https://files.pythonhosted.org/packages/1e/40/6938f7d544eef208a8183c2c80624289e8a4f4e0aea43f4658b9527077de/Pint-0.8.1.tar.gz (162kB)\n",
            "\u001b[K    100% |████████████████████████████████| 163kB 30.1MB/s \n",
            "\u001b[?25hRequirement already satisfied: six>=1.10.0 in /usr/local/lib/python3.6/dist-packages (from matminer) (1.11.0)\n",
            "Collecting citrination-client>=4.0.0 (from matminer)\n",
            "\u001b[?25l  Downloading https://files.pythonhosted.org/packages/84/09/d08988a7cd7c01c8e1ac6c82dc003a00e2d4534f3811e1a5d421e32db991/citrination-client-4.4.2.tar.gz (42kB)\n",
            "\u001b[K    100% |████████████████████████████████| 51kB 19.6MB/s \n",
            "\u001b[?25hCollecting plotly>=3.2.1 (from matminer)\n",
            "\u001b[?25l  Downloading https://files.pythonhosted.org/packages/d6/3b/abec247e24e2b8f29793811788fe0607062f40eefe3104823ad57f06ecf1/plotly-3.3.0-py2.py3-none-any.whl (37.3MB)\n",
            "\u001b[K    100% |████████████████████████████████| 37.3MB 1.1MB/s \n",
            "\u001b[?25hCollecting mdf_forge>=0.6.1 (from matminer)\n",
            "  Downloading https://files.pythonhosted.org/packages/7c/24/69831fdedece1a33515058155eff40da336b1a0306dad9eaa98058e56394/mdf_forge-0.6.4-py2.py3-none-any.whl\n",
            "Requirement already satisfied: scikit-learn>=0.19.0 in /usr/local/lib/python3.6/dist-packages (from matminer) (0.19.2)\n",
            "Requirement already satisfied: sympy>=1.1.1 in /usr/local/lib/python3.6/dist-packages (from matminer) (1.1.1)\n",
            "Requirement already satisfied: numpy>=1.14.3 in /usr/local/lib/python3.6/dist-packages (from pymatgen>=2018.8.7->matminer) (1.14.6)\n",
            "Requirement already satisfied: requests in /usr/local/lib/python3.6/dist-packages (from pymatgen>=2018.8.7->matminer) (2.18.4)\n",
            "Collecting ruamel.yaml>=0.15.6 (from pymatgen>=2018.8.7->matminer)\n",
            "\u001b[?25l  Downloading https://files.pythonhosted.org/packages/82/03/2871e7444a6ceef12917c20b665b25aa73a46383f83d95ac937fb8ea03be/ruamel.yaml-0.15.75-cp36-cp36m-manylinux1_x86_64.whl (660kB)\n",
            "\u001b[K    100% |████████████████████████████████| 665kB 17.7MB/s \n",
            "\u001b[?25hCollecting monty>=0.9.6 (from pymatgen>=2018.8.7->matminer)\n",
            "\u001b[?25l  Downloading https://files.pythonhosted.org/packages/f1/44/f92ae375c030a3a98201d6d7ecdae9b74c39bdc58c05bf163db71c7dddbf/monty-1.0.3-py3-none-any.whl (61kB)\n",
            "\u001b[K    100% |████████████████████████████████| 61kB 22.3MB/s \n",
            "\u001b[?25hCollecting scipy>=1.0.1 (from pymatgen>=2018.8.7->matminer)\n",
            "\u001b[?25l  Downloading https://files.pythonhosted.org/packages/a8/0b/f163da98d3a01b3e0ef1cab8dd2123c34aee2bafbb1c5bffa354cc8a1730/scipy-1.1.0-cp36-cp36m-manylinux1_x86_64.whl (31.2MB)\n",
            "\u001b[K    100% |████████████████████████████████| 31.2MB 1.1MB/s \n",
            "\u001b[?25hCollecting pydispatcher>=2.0.5 (from pymatgen>=2018.8.7->matminer)\n",
            "  Downloading https://files.pythonhosted.org/packages/cd/37/39aca520918ce1935bea9c356bcbb7ed7e52ad4e31bff9b943dfc8e7115b/PyDispatcher-2.0.5.tar.gz\n",
            "Collecting tabulate (from pymatgen>=2018.8.7->matminer)\n",
            "\u001b[?25l  Downloading https://files.pythonhosted.org/packages/12/c2/11d6845db5edf1295bc08b2f488cf5937806586afe42936c3f34c097ebdc/tabulate-0.8.2.tar.gz (45kB)\n",
            "\u001b[K    100% |████████████████████████████████| 51kB 17.1MB/s \n",
            "\u001b[?25hCollecting spglib>=1.9.9.44 (from pymatgen>=2018.8.7->matminer)\n",
            "\u001b[?25l  Downloading https://files.pythonhosted.org/packages/ad/ab/7fe8ad0b796853bfe4b812287c6f31da367cfa19a4567a10c6deb4385601/spglib-1.10.4.11-cp36-cp36m-manylinux1_x86_64.whl (237kB)\n",
            "\u001b[K    100% |████████████████████████████████| 245kB 21.2MB/s \n",
            "\u001b[?25hRequirement already satisfied: networkx>=2.1 in /usr/local/lib/python3.6/dist-packages (from pymatgen>=2018.8.7->matminer) (2.2)\n",
            "Requirement already satisfied: matplotlib>=1.5 in /usr/local/lib/python3.6/dist-packages (from pymatgen>=2018.8.7->matminer) (2.1.2)\n",
            "Collecting palettable>=2.1.1 (from pymatgen>=2018.8.7->matminer)\n",
            "\u001b[?25l  Downloading https://files.pythonhosted.org/packages/56/8a/84537c0354f0d1f03bf644b71bf8e0a50db9c1294181905721a5f3efbf66/palettable-3.1.1-py2.py3-none-any.whl (77kB)\n",
            "\u001b[K    100% |████████████████████████████████| 81kB 27.5MB/s \n",
            "\u001b[?25hRequirement already satisfied: python-dateutil>=2 in /usr/local/lib/python3.6/dist-packages (from pandas>=0.20.1->matminer) (2.5.3)\n",
            "Requirement already satisfied: pytz>=2011k in /usr/local/lib/python3.6/dist-packages (from pandas>=0.20.1->matminer) (2018.7)\n",
            "Collecting pypif (from citrination-client>=4.0.0->matminer)\n",
            "  Downloading https://files.pythonhosted.org/packages/a1/72/57475f26c26490c3e0f3c93fabb27a95facb28e772a71b20b672419900d0/pypif-2.1.0.tar.gz\n",
            "Requirement already satisfied: pyyaml in /usr/local/lib/python3.6/dist-packages (from citrination-client>=4.0.0->matminer) (3.13)\n",
            "Requirement already satisfied: decorator>=4.0.6 in /usr/local/lib/python3.6/dist-packages (from plotly>=3.2.1->matminer) (4.3.0)\n",
            "Collecting retrying>=1.3.3 (from plotly>=3.2.1->matminer)\n",
            "  Downloading https://files.pythonhosted.org/packages/44/ef/beae4b4ef80902f22e3af073397f079c96969c69b2c7d52a57ea9ae61c9d/retrying-1.3.3.tar.gz\n",
            "Requirement already satisfied: nbformat>=4.2 in /usr/local/lib/python3.6/dist-packages (from plotly>=3.2.1->matminer) (4.4.0)\n",
            "Collecting mdf-toolbox>=0.2.0 (from mdf_forge>=0.6.1->matminer)\n",
            "  Downloading https://files.pythonhosted.org/packages/ec/f0/a78d067a567c47a6c18391b21b97bb216d25987b1cea6b7de5c5c2f79438/mdf_toolbox-0.3.1-py2.py3-none-any.whl\n",
            "Collecting globus-sdk>=1.5.0 (from mdf_forge>=0.6.1->matminer)\n",
            "\u001b[?25l  Downloading https://files.pythonhosted.org/packages/01/1e/30fc29a19e53e360be9b267d941699457906cce7693b85c083061a5e7651/globus_sdk-1.6.1-py2.py3-none-any.whl (73kB)\n",
            "\u001b[K    100% |████████████████████████████████| 81kB 22.8MB/s \n",
            "\u001b[?25hRequirement already satisfied: mpmath>=0.19 in /usr/local/lib/python3.6/dist-packages (from sympy>=1.1.1->matminer) (1.0.0)\n",
            "Requirement already satisfied: chardet<3.1.0,>=3.0.2 in /usr/local/lib/python3.6/dist-packages (from requests->pymatgen>=2018.8.7->matminer) (3.0.4)\n",
            "Requirement already satisfied: idna<2.7,>=2.5 in /usr/local/lib/python3.6/dist-packages (from requests->pymatgen>=2018.8.7->matminer) (2.6)\n",
            "Requirement already satisfied: certifi>=2017.4.17 in /usr/local/lib/python3.6/dist-packages (from requests->pymatgen>=2018.8.7->matminer) (2018.10.15)\n",
            "Requirement already satisfied: urllib3<1.23,>=1.21.1 in /usr/local/lib/python3.6/dist-packages (from requests->pymatgen>=2018.8.7->matminer) (1.22)\n",
            "Requirement already satisfied: cycler>=0.10 in /usr/local/lib/python3.6/dist-packages (from matplotlib>=1.5->pymatgen>=2018.8.7->matminer) (0.10.0)\n",
            "Requirement already satisfied: pyparsing!=2.0.4,!=2.1.2,!=2.1.6,>=2.0.1 in /usr/local/lib/python3.6/dist-packages (from matplotlib>=1.5->pymatgen>=2018.8.7->matminer) (2.2.2)\n",
            "Requirement already satisfied: jupyter-core in /usr/local/lib/python3.6/dist-packages (from nbformat>=4.2->plotly>=3.2.1->matminer) (4.4.0)\n",
            "Requirement already satisfied: traitlets>=4.1 in /usr/local/lib/python3.6/dist-packages (from nbformat>=4.2->plotly>=3.2.1->matminer) (4.3.2)\n",
            "Requirement already satisfied: jsonschema!=2.5.0,>=2.4 in /usr/local/lib/python3.6/dist-packages (from nbformat>=4.2->plotly>=3.2.1->matminer) (2.6.0)\n",
            "Requirement already satisfied: ipython-genutils in /usr/local/lib/python3.6/dist-packages (from nbformat>=4.2->plotly>=3.2.1->matminer) (0.2.0)\n",
            "Collecting globus-nexus-client>=0.2.8 (from mdf-toolbox>=0.2.0->mdf_forge>=0.6.1->matminer)\n",
            "  Downloading https://files.pythonhosted.org/packages/d8/ea/cf065156bc5ffd2b57803ee414b4a720bac619e4ea49c6c9787dcff68ca9/globus-nexus-client-0.2.8.tar.gz\n",
            "Collecting pyjwt[crypto]<2.0.0,>=1.5.3 (from globus-sdk>=1.5.0->mdf_forge>=0.6.1->matminer)\n",
            "  Downloading https://files.pythonhosted.org/packages/93/d1/3378cc8184a6524dc92993090ee8b4c03847c567e298305d6cf86987e005/PyJWT-1.6.4-py2.py3-none-any.whl\n",
            "Collecting cryptography>=1.4; extra == \"crypto\" (from pyjwt[crypto]<2.0.0,>=1.5.3->globus-sdk>=1.5.0->mdf_forge>=0.6.1->matminer)\n",
            "\u001b[?25l  Downloading https://files.pythonhosted.org/packages/59/32/92cade62c645756a83598edf56289e9b19aae5370642a7ce690cd06bc72f/cryptography-2.3.1-cp34-abi3-manylinux1_x86_64.whl (2.1MB)\n",
            "\u001b[K    100% |████████████████████████████████| 2.1MB 12.0MB/s \n",
            "\u001b[?25hCollecting cffi!=1.11.3,>=1.7 (from cryptography>=1.4; extra == \"crypto\"->pyjwt[crypto]<2.0.0,>=1.5.3->globus-sdk>=1.5.0->mdf_forge>=0.6.1->matminer)\n",
            "\u001b[?25l  Downloading https://files.pythonhosted.org/packages/6d/c0/47db8f624f3e4e2f3f27be03a93379d1ba16a1450a7b1aacfa0366e2c0dd/cffi-1.11.5-cp36-cp36m-manylinux1_x86_64.whl (421kB)\n",
            "\u001b[K    100% |████████████████████████████████| 430kB 21.6MB/s \n",
            "\u001b[?25hCollecting asn1crypto>=0.21.0 (from cryptography>=1.4; extra == \"crypto\"->pyjwt[crypto]<2.0.0,>=1.5.3->globus-sdk>=1.5.0->mdf_forge>=0.6.1->matminer)\n",
            "\u001b[?25l  Downloading https://files.pythonhosted.org/packages/ea/cd/35485615f45f30a510576f1a56d1e0a7ad7bd8ab5ed7cdc600ef7cd06222/asn1crypto-0.24.0-py2.py3-none-any.whl (101kB)\n",
            "\u001b[K    100% |████████████████████████████████| 102kB 26.9MB/s \n",
            "\u001b[?25hCollecting pycparser (from cffi!=1.11.3,>=1.7->cryptography>=1.4; extra == \"crypto\"->pyjwt[crypto]<2.0.0,>=1.5.3->globus-sdk>=1.5.0->mdf_forge>=0.6.1->matminer)\n",
            "\u001b[?25l  Downloading https://files.pythonhosted.org/packages/68/9e/49196946aee219aead1290e00d1e7fdeab8567783e83e1b9ab5585e6206a/pycparser-2.19.tar.gz (158kB)\n",
            "\u001b[K    100% |████████████████████████████████| 163kB 31.1MB/s \n",
            "\u001b[?25hBuilding wheels for collected packages: matminer, pymatgen, pint, citrination-client, pydispatcher, tabulate, pypif, retrying, globus-nexus-client, pycparser\n",
            "  Running setup.py bdist_wheel for matminer ... \u001b[?25l-\b \b\\\b \b|\b \bdone\n",
            "\u001b[?25h  Stored in directory: /root/.cache/pip/wheels/97/a0/c2/71d4e628101b82e394836c909a0cd3ebce4bd18436c3210e4e\n",
            "  Running setup.py bdist_wheel for pymatgen ... \u001b[?25l-\b \b\\\b \b|\b \b/\b \b-\b \b\\\b \b|\b \b/\b \b-\b \b\\\b \b|\b \b/\b \b-\b \b\\\b \b|\b \bdone\n",
            "\u001b[?25h  Stored in directory: /root/.cache/pip/wheels/a6/c1/c0/aa84e25f67e0ed949065bd16fd26c07a062b7a5d06812dca8a\n",
            "  Running setup.py bdist_wheel for pint ... \u001b[?25l-\b \b\\\b \bdone\n",
            "\u001b[?25h  Stored in directory: /root/.cache/pip/wheels/b4/56/36/7c4d6a4e3660e233b95e3b0482551915cb184abca0f93ee1dd\n",
            "  Running setup.py bdist_wheel for citrination-client ... \u001b[?25l-\b \b\\\b \bdone\n",
            "\u001b[?25h  Stored in directory: /root/.cache/pip/wheels/36/61/57/b43d1cf665fcc74852d0ef137adc39b62188fb9a30c60365ea\n",
            "  Running setup.py bdist_wheel for pydispatcher ... \u001b[?25l-\b \bdone\n",
            "\u001b[?25h  Stored in directory: /root/.cache/pip/wheels/88/99/96/cfef6665f9cb1522ee6757ae5955feedf2fe25f1737f91fa7f\n",
            "  Running setup.py bdist_wheel for tabulate ... \u001b[?25l-\b \bdone\n",
            "\u001b[?25h  Stored in directory: /root/.cache/pip/wheels/2a/85/33/2f6da85d5f10614cbe5a625eab3b3aebfdf43e7b857f25f829\n",
            "  Running setup.py bdist_wheel for pypif ... \u001b[?25l-\b \b\\\b \bdone\n",
            "\u001b[?25h  Stored in directory: /root/.cache/pip/wheels/ea/d3/48/e771cb9fc4561f0ec41a867c9e6ead88b085cb398560386b4c\n",
            "  Running setup.py bdist_wheel for retrying ... \u001b[?25l-\b \bdone\n",
            "\u001b[?25h  Stored in directory: /root/.cache/pip/wheels/d7/a9/33/acc7b709e2a35caa7d4cae442f6fe6fbf2c43f80823d46460c\n",
            "  Running setup.py bdist_wheel for globus-nexus-client ... \u001b[?25l-\b \bdone\n",
            "\u001b[?25h  Stored in directory: /root/.cache/pip/wheels/eb/dc/a7/997791f89b4be286c9acfcaf0770147e8e32d4b60e7d334641\n",
            "  Running setup.py bdist_wheel for pycparser ... \u001b[?25l-\b \b\\\b \bdone\n",
            "\u001b[?25h  Stored in directory: /root/.cache/pip/wheels/f2/9a/90/de94f8556265ddc9d9c8b271b0f63e57b26fb1d67a45564511\n",
            "Successfully built matminer pymatgen pint citrination-client pydispatcher tabulate pypif retrying globus-nexus-client pycparser\n",
            "Installing collected packages: ruamel.yaml, monty, scipy, pydispatcher, tabulate, spglib, palettable, pymatgen, pymongo, pint, pypif, citrination-client, retrying, plotly, pycparser, cffi, asn1crypto, cryptography, pyjwt, globus-sdk, globus-nexus-client, mdf-toolbox, mdf-forge, matminer\n",
            "  Found existing installation: scipy 0.19.1\n",
            "    Uninstalling scipy-0.19.1:\n",
            "      Successfully uninstalled scipy-0.19.1\n",
            "  Found existing installation: plotly 1.12.12\n",
            "    Uninstalling plotly-1.12.12:\n",
            "      Successfully uninstalled plotly-1.12.12\n",
            "Successfully installed asn1crypto-0.24.0 cffi-1.11.5 citrination-client-4.4.2 cryptography-2.3.1 globus-nexus-client-0.2.8 globus-sdk-1.6.1 matminer-0.4.3 mdf-forge-0.6.4 mdf-toolbox-0.3.1 monty-1.0.3 palettable-3.1.1 pint-0.8.1 plotly-3.3.0 pycparser-2.19 pydispatcher-2.0.5 pyjwt-1.6.4 pymatgen-2018.10.18 pymongo-3.7.2 pypif-2.1.0 retrying-1.3.3 ruamel.yaml-0.15.75 scipy-1.1.0 spglib-1.10.4.11 tabulate-0.8.2\n"
          ],
          "name": "stdout"
        }
      ]
    },
    {
      "metadata": {
        "id": "lLneYJ19ZTkj",
        "colab_type": "code",
        "colab": {
          "base_uri": "https://localhost:8080/",
          "height": 36
        },
        "outputId": "aa929821-1ace-4f96-ebfa-7d92c92d0879"
      },
      "cell_type": "code",
      "source": [
        "from matminer.data_retrieval.retrieve_MP import MPDataRetrieval\n",
        "\n",
        "api_key = \"2vg9wZLez5OM6HFn\"  # Set your MP API key here. If set as an environment variable 'MAPI_KEY', set it to 'None'\n",
        "mpr = MPDataRetrieval(api_key)     # Create an adapter to the MP Database.\n",
        "\n",
        "# criteria is to get all binary compounds\n",
        "criteria = {'nelements': 2}\n",
        "\n",
        "# properties are the materials attributes we want\n",
        "# See https://github.com/materialsproject/mapidoc for available properties you can specify\n",
        "properties = ['pretty_formula', 'spacegroup.symbol', 'formation_energy_per_atom', 'band_gap', 'e_above_hull', \n",
        "              'density', 'volume', 'nsites']\n",
        "\n",
        "# get the data!\n",
        "df_mp = mpr.get_dataframe(criteria=criteria, properties=properties)\n",
        "print('Number of binary compounds extracted = {}'.format(len(df_mp)))"
      ],
      "execution_count": 7,
      "outputs": [
        {
          "output_type": "stream",
          "text": [
            "Number of binary compounds extracted = 13860\n"
          ],
          "name": "stdout"
        }
      ]
    },
    {
      "metadata": {
        "id": "nGDaM8lAZhTT",
        "colab_type": "code",
        "colab": {
          "base_uri": "https://localhost:8080/",
          "height": 258
        },
        "outputId": "02d9a5df-5d22-44ee-fbf1-64efb9a8def9"
      },
      "cell_type": "code",
      "source": [
        "df_mp.head()"
      ],
      "execution_count": 8,
      "outputs": [
        {
          "output_type": "execute_result",
          "data": {
            "text/html": [
              "<div>\n",
              "<style scoped>\n",
              "    .dataframe tbody tr th:only-of-type {\n",
              "        vertical-align: middle;\n",
              "    }\n",
              "\n",
              "    .dataframe tbody tr th {\n",
              "        vertical-align: top;\n",
              "    }\n",
              "\n",
              "    .dataframe thead th {\n",
              "        text-align: right;\n",
              "    }\n",
              "</style>\n",
              "<table border=\"1\" class=\"dataframe\">\n",
              "  <thead>\n",
              "    <tr style=\"text-align: right;\">\n",
              "      <th></th>\n",
              "      <th>pretty_formula</th>\n",
              "      <th>spacegroup.symbol</th>\n",
              "      <th>formation_energy_per_atom</th>\n",
              "      <th>band_gap</th>\n",
              "      <th>e_above_hull</th>\n",
              "      <th>density</th>\n",
              "      <th>volume</th>\n",
              "      <th>nsites</th>\n",
              "    </tr>\n",
              "    <tr>\n",
              "      <th>material_id</th>\n",
              "      <th></th>\n",
              "      <th></th>\n",
              "      <th></th>\n",
              "      <th></th>\n",
              "      <th></th>\n",
              "      <th></th>\n",
              "      <th></th>\n",
              "      <th></th>\n",
              "    </tr>\n",
              "  </thead>\n",
              "  <tbody>\n",
              "    <tr>\n",
              "      <th>mp-865950</th>\n",
              "      <td>AcAg3</td>\n",
              "      <td>P6_3/mmc</td>\n",
              "      <td>-0.206854</td>\n",
              "      <td>0.0000</td>\n",
              "      <td>0.0</td>\n",
              "      <td>8.930827</td>\n",
              "      <td>204.751583</td>\n",
              "      <td>8</td>\n",
              "    </tr>\n",
              "    <tr>\n",
              "      <th>mp-866199</th>\n",
              "      <td>AcAg</td>\n",
              "      <td>Pm-3m</td>\n",
              "      <td>-0.268366</td>\n",
              "      <td>0.0000</td>\n",
              "      <td>0.0</td>\n",
              "      <td>8.859009</td>\n",
              "      <td>62.767941</td>\n",
              "      <td>2</td>\n",
              "    </tr>\n",
              "    <tr>\n",
              "      <th>mp-862617</th>\n",
              "      <td>AcAl3</td>\n",
              "      <td>P6_3/mmc</td>\n",
              "      <td>-0.368426</td>\n",
              "      <td>0.0000</td>\n",
              "      <td>0.0</td>\n",
              "      <td>5.243536</td>\n",
              "      <td>195.041675</td>\n",
              "      <td>8</td>\n",
              "    </tr>\n",
              "    <tr>\n",
              "      <th>mp-867838</th>\n",
              "      <td>AcAu3</td>\n",
              "      <td>P6_3/mmc</td>\n",
              "      <td>-0.693050</td>\n",
              "      <td>0.0000</td>\n",
              "      <td>0.0</td>\n",
              "      <td>13.755798</td>\n",
              "      <td>197.466462</td>\n",
              "      <td>8</td>\n",
              "    </tr>\n",
              "    <tr>\n",
              "      <th>mp-27972</th>\n",
              "      <td>AcBr3</td>\n",
              "      <td>P6_3/m</td>\n",
              "      <td>-2.103586</td>\n",
              "      <td>4.1045</td>\n",
              "      <td>0.0</td>\n",
              "      <td>5.570195</td>\n",
              "      <td>278.264428</td>\n",
              "      <td>8</td>\n",
              "    </tr>\n",
              "  </tbody>\n",
              "</table>\n",
              "</div>"
            ],
            "text/plain": [
              "            pretty_formula spacegroup.symbol  formation_energy_per_atom  band_gap  e_above_hull    density      volume  nsites\n",
              "material_id                                                                                                                   \n",
              "mp-865950            AcAg3          P6_3/mmc                  -0.206854    0.0000           0.0   8.930827  204.751583       8\n",
              "mp-866199             AcAg             Pm-3m                  -0.268366    0.0000           0.0   8.859009   62.767941       2\n",
              "mp-862617            AcAl3          P6_3/mmc                  -0.368426    0.0000           0.0   5.243536  195.041675       8\n",
              "mp-867838            AcAu3          P6_3/mmc                  -0.693050    0.0000           0.0  13.755798  197.466462       8\n",
              "mp-27972             AcBr3            P6_3/m                  -2.103586    4.1045           0.0   5.570195  278.264428       8"
            ]
          },
          "metadata": {
            "tags": []
          },
          "execution_count": 8
        }
      ]
    },
    {
      "metadata": {
        "id": "MS7mTDeLaAk-",
        "colab_type": "code",
        "colab": {
          "base_uri": "https://localhost:8080/",
          "height": 320
        },
        "outputId": "837cd4c2-1978-4165-ca58-882fbf1d8576"
      },
      "cell_type": "code",
      "source": [
        "df_mp.describe()"
      ],
      "execution_count": 9,
      "outputs": [
        {
          "output_type": "execute_result",
          "data": {
            "text/html": [
              "<div>\n",
              "<style scoped>\n",
              "    .dataframe tbody tr th:only-of-type {\n",
              "        vertical-align: middle;\n",
              "    }\n",
              "\n",
              "    .dataframe tbody tr th {\n",
              "        vertical-align: top;\n",
              "    }\n",
              "\n",
              "    .dataframe thead th {\n",
              "        text-align: right;\n",
              "    }\n",
              "</style>\n",
              "<table border=\"1\" class=\"dataframe\">\n",
              "  <thead>\n",
              "    <tr style=\"text-align: right;\">\n",
              "      <th></th>\n",
              "      <th>formation_energy_per_atom</th>\n",
              "      <th>band_gap</th>\n",
              "      <th>e_above_hull</th>\n",
              "      <th>density</th>\n",
              "      <th>volume</th>\n",
              "      <th>nsites</th>\n",
              "    </tr>\n",
              "  </thead>\n",
              "  <tbody>\n",
              "    <tr>\n",
              "      <th>count</th>\n",
              "      <td>13860.000000</td>\n",
              "      <td>13860.000000</td>\n",
              "      <td>13860.000000</td>\n",
              "      <td>13860.000000</td>\n",
              "      <td>13860.000000</td>\n",
              "      <td>13860.000000</td>\n",
              "    </tr>\n",
              "    <tr>\n",
              "      <th>mean</th>\n",
              "      <td>-0.626519</td>\n",
              "      <td>0.542294</td>\n",
              "      <td>0.137128</td>\n",
              "      <td>6.352304</td>\n",
              "      <td>344.232222</td>\n",
              "      <td>15.187157</td>\n",
              "    </tr>\n",
              "    <tr>\n",
              "      <th>std</th>\n",
              "      <td>0.983194</td>\n",
              "      <td>1.273995</td>\n",
              "      <td>0.292368</td>\n",
              "      <td>3.644392</td>\n",
              "      <td>598.482160</td>\n",
              "      <td>20.967174</td>\n",
              "    </tr>\n",
              "    <tr>\n",
              "      <th>min</th>\n",
              "      <td>-4.522664</td>\n",
              "      <td>0.000000</td>\n",
              "      <td>0.000000</td>\n",
              "      <td>0.039075</td>\n",
              "      <td>11.917209</td>\n",
              "      <td>2.000000</td>\n",
              "    </tr>\n",
              "    <tr>\n",
              "      <th>25%</th>\n",
              "      <td>-0.933751</td>\n",
              "      <td>0.000000</td>\n",
              "      <td>0.000000</td>\n",
              "      <td>3.512019</td>\n",
              "      <td>85.094120</td>\n",
              "      <td>4.000000</td>\n",
              "    </tr>\n",
              "    <tr>\n",
              "      <th>50%</th>\n",
              "      <td>-0.342153</td>\n",
              "      <td>0.000000</td>\n",
              "      <td>0.020931</td>\n",
              "      <td>5.777660</td>\n",
              "      <td>172.074033</td>\n",
              "      <td>8.000000</td>\n",
              "    </tr>\n",
              "    <tr>\n",
              "      <th>75%</th>\n",
              "      <td>-0.027556</td>\n",
              "      <td>0.141350</td>\n",
              "      <td>0.161630</td>\n",
              "      <td>8.329129</td>\n",
              "      <td>356.596646</td>\n",
              "      <td>16.000000</td>\n",
              "    </tr>\n",
              "    <tr>\n",
              "      <th>max</th>\n",
              "      <td>4.389405</td>\n",
              "      <td>9.061200</td>\n",
              "      <td>4.389405</td>\n",
              "      <td>21.676369</td>\n",
              "      <td>14531.250287</td>\n",
              "      <td>200.000000</td>\n",
              "    </tr>\n",
              "  </tbody>\n",
              "</table>\n",
              "</div>"
            ],
            "text/plain": [
              "       formation_energy_per_atom      band_gap  e_above_hull       density        volume        nsites\n",
              "count               13860.000000  13860.000000  13860.000000  13860.000000  13860.000000  13860.000000\n",
              "mean                   -0.626519      0.542294      0.137128      6.352304    344.232222     15.187157\n",
              "std                     0.983194      1.273995      0.292368      3.644392    598.482160     20.967174\n",
              "min                    -4.522664      0.000000      0.000000      0.039075     11.917209      2.000000\n",
              "25%                    -0.933751      0.000000      0.000000      3.512019     85.094120      4.000000\n",
              "50%                    -0.342153      0.000000      0.020931      5.777660    172.074033      8.000000\n",
              "75%                    -0.027556      0.141350      0.161630      8.329129    356.596646     16.000000\n",
              "max                     4.389405      9.061200      4.389405     21.676369  14531.250287    200.000000"
            ]
          },
          "metadata": {
            "tags": []
          },
          "execution_count": 9
        }
      ]
    },
    {
      "metadata": {
        "id": "SVDoBj2caN0R",
        "colab_type": "code",
        "colab": {
          "base_uri": "https://localhost:8080/",
          "height": 320
        },
        "outputId": "0f336c91-12dc-4c45-a994-97ef7d41fa59"
      },
      "cell_type": "code",
      "source": [
        "df_mp = df_mp[df_mp['e_above_hull'] < 0.1]\n",
        "df_mp.describe()"
      ],
      "execution_count": 10,
      "outputs": [
        {
          "output_type": "execute_result",
          "data": {
            "text/html": [
              "<div>\n",
              "<style scoped>\n",
              "    .dataframe tbody tr th:only-of-type {\n",
              "        vertical-align: middle;\n",
              "    }\n",
              "\n",
              "    .dataframe tbody tr th {\n",
              "        vertical-align: top;\n",
              "    }\n",
              "\n",
              "    .dataframe thead th {\n",
              "        text-align: right;\n",
              "    }\n",
              "</style>\n",
              "<table border=\"1\" class=\"dataframe\">\n",
              "  <thead>\n",
              "    <tr style=\"text-align: right;\">\n",
              "      <th></th>\n",
              "      <th>formation_energy_per_atom</th>\n",
              "      <th>band_gap</th>\n",
              "      <th>e_above_hull</th>\n",
              "      <th>density</th>\n",
              "      <th>volume</th>\n",
              "      <th>nsites</th>\n",
              "    </tr>\n",
              "  </thead>\n",
              "  <tbody>\n",
              "    <tr>\n",
              "      <th>count</th>\n",
              "      <td>9466.000000</td>\n",
              "      <td>9466.000000</td>\n",
              "      <td>9466.000000</td>\n",
              "      <td>9466.000000</td>\n",
              "      <td>9466.000000</td>\n",
              "      <td>9466.000000</td>\n",
              "    </tr>\n",
              "    <tr>\n",
              "      <th>mean</th>\n",
              "      <td>-0.789770</td>\n",
              "      <td>0.656388</td>\n",
              "      <td>0.016517</td>\n",
              "      <td>6.735374</td>\n",
              "      <td>353.815080</td>\n",
              "      <td>16.202197</td>\n",
              "    </tr>\n",
              "    <tr>\n",
              "      <th>std</th>\n",
              "      <td>0.924913</td>\n",
              "      <td>1.393007</td>\n",
              "      <td>0.026054</td>\n",
              "      <td>3.544205</td>\n",
              "      <td>529.972765</td>\n",
              "      <td>22.339041</td>\n",
              "    </tr>\n",
              "    <tr>\n",
              "      <th>min</th>\n",
              "      <td>-4.522664</td>\n",
              "      <td>0.000000</td>\n",
              "      <td>0.000000</td>\n",
              "      <td>0.222775</td>\n",
              "      <td>11.917209</td>\n",
              "      <td>2.000000</td>\n",
              "    </tr>\n",
              "    <tr>\n",
              "      <th>25%</th>\n",
              "      <td>-1.020084</td>\n",
              "      <td>0.000000</td>\n",
              "      <td>0.000000</td>\n",
              "      <td>4.066123</td>\n",
              "      <td>92.376327</td>\n",
              "      <td>4.000000</td>\n",
              "    </tr>\n",
              "    <tr>\n",
              "      <th>50%</th>\n",
              "      <td>-0.448040</td>\n",
              "      <td>0.000000</td>\n",
              "      <td>0.000469</td>\n",
              "      <td>6.309683</td>\n",
              "      <td>175.963398</td>\n",
              "      <td>8.000000</td>\n",
              "    </tr>\n",
              "    <tr>\n",
              "      <th>75%</th>\n",
              "      <td>-0.169640</td>\n",
              "      <td>0.515575</td>\n",
              "      <td>0.023895</td>\n",
              "      <td>8.631621</td>\n",
              "      <td>373.343771</td>\n",
              "      <td>17.000000</td>\n",
              "    </tr>\n",
              "    <tr>\n",
              "      <th>max</th>\n",
              "      <td>0.099969</td>\n",
              "      <td>9.061200</td>\n",
              "      <td>0.099988</td>\n",
              "      <td>21.676369</td>\n",
              "      <td>6897.599713</td>\n",
              "      <td>196.000000</td>\n",
              "    </tr>\n",
              "  </tbody>\n",
              "</table>\n",
              "</div>"
            ],
            "text/plain": [
              "       formation_energy_per_atom     band_gap  e_above_hull      density       volume       nsites\n",
              "count                9466.000000  9466.000000   9466.000000  9466.000000  9466.000000  9466.000000\n",
              "mean                   -0.789770     0.656388      0.016517     6.735374   353.815080    16.202197\n",
              "std                     0.924913     1.393007      0.026054     3.544205   529.972765    22.339041\n",
              "min                    -4.522664     0.000000      0.000000     0.222775    11.917209     2.000000\n",
              "25%                    -1.020084     0.000000      0.000000     4.066123    92.376327     4.000000\n",
              "50%                    -0.448040     0.000000      0.000469     6.309683   175.963398     8.000000\n",
              "75%                    -0.169640     0.515575      0.023895     8.631621   373.343771    17.000000\n",
              "max                     0.099969     9.061200      0.099988    21.676369  6897.599713   196.000000"
            ]
          },
          "metadata": {
            "tags": []
          },
          "execution_count": 10
        }
      ]
    },
    {
      "metadata": {
        "id": "MYl7ivE8ahTL",
        "colab_type": "code",
        "colab": {
          "base_uri": "https://localhost:8080/",
          "height": 258
        },
        "outputId": "cb9cfd71-28d5-4cfe-c255-18a3ddf4d193"
      },
      "cell_type": "code",
      "source": [
        "# add volume per atom descriptor\n",
        "df_mp['vpa'] = df_mp['volume']/df_mp['nsites']\n",
        "\n",
        "# explore columns\n",
        "df_mp.head()"
      ],
      "execution_count": 11,
      "outputs": [
        {
          "output_type": "execute_result",
          "data": {
            "text/html": [
              "<div>\n",
              "<style scoped>\n",
              "    .dataframe tbody tr th:only-of-type {\n",
              "        vertical-align: middle;\n",
              "    }\n",
              "\n",
              "    .dataframe tbody tr th {\n",
              "        vertical-align: top;\n",
              "    }\n",
              "\n",
              "    .dataframe thead th {\n",
              "        text-align: right;\n",
              "    }\n",
              "</style>\n",
              "<table border=\"1\" class=\"dataframe\">\n",
              "  <thead>\n",
              "    <tr style=\"text-align: right;\">\n",
              "      <th></th>\n",
              "      <th>pretty_formula</th>\n",
              "      <th>spacegroup.symbol</th>\n",
              "      <th>formation_energy_per_atom</th>\n",
              "      <th>band_gap</th>\n",
              "      <th>e_above_hull</th>\n",
              "      <th>density</th>\n",
              "      <th>volume</th>\n",
              "      <th>nsites</th>\n",
              "      <th>vpa</th>\n",
              "    </tr>\n",
              "    <tr>\n",
              "      <th>material_id</th>\n",
              "      <th></th>\n",
              "      <th></th>\n",
              "      <th></th>\n",
              "      <th></th>\n",
              "      <th></th>\n",
              "      <th></th>\n",
              "      <th></th>\n",
              "      <th></th>\n",
              "      <th></th>\n",
              "    </tr>\n",
              "  </thead>\n",
              "  <tbody>\n",
              "    <tr>\n",
              "      <th>mp-865950</th>\n",
              "      <td>AcAg3</td>\n",
              "      <td>P6_3/mmc</td>\n",
              "      <td>-0.206854</td>\n",
              "      <td>0.0000</td>\n",
              "      <td>0.0</td>\n",
              "      <td>8.930827</td>\n",
              "      <td>204.751583</td>\n",
              "      <td>8</td>\n",
              "      <td>25.593948</td>\n",
              "    </tr>\n",
              "    <tr>\n",
              "      <th>mp-866199</th>\n",
              "      <td>AcAg</td>\n",
              "      <td>Pm-3m</td>\n",
              "      <td>-0.268366</td>\n",
              "      <td>0.0000</td>\n",
              "      <td>0.0</td>\n",
              "      <td>8.859009</td>\n",
              "      <td>62.767941</td>\n",
              "      <td>2</td>\n",
              "      <td>31.383970</td>\n",
              "    </tr>\n",
              "    <tr>\n",
              "      <th>mp-862617</th>\n",
              "      <td>AcAl3</td>\n",
              "      <td>P6_3/mmc</td>\n",
              "      <td>-0.368426</td>\n",
              "      <td>0.0000</td>\n",
              "      <td>0.0</td>\n",
              "      <td>5.243536</td>\n",
              "      <td>195.041675</td>\n",
              "      <td>8</td>\n",
              "      <td>24.380209</td>\n",
              "    </tr>\n",
              "    <tr>\n",
              "      <th>mp-867838</th>\n",
              "      <td>AcAu3</td>\n",
              "      <td>P6_3/mmc</td>\n",
              "      <td>-0.693050</td>\n",
              "      <td>0.0000</td>\n",
              "      <td>0.0</td>\n",
              "      <td>13.755798</td>\n",
              "      <td>197.466462</td>\n",
              "      <td>8</td>\n",
              "      <td>24.683308</td>\n",
              "    </tr>\n",
              "    <tr>\n",
              "      <th>mp-27972</th>\n",
              "      <td>AcBr3</td>\n",
              "      <td>P6_3/m</td>\n",
              "      <td>-2.103586</td>\n",
              "      <td>4.1045</td>\n",
              "      <td>0.0</td>\n",
              "      <td>5.570195</td>\n",
              "      <td>278.264428</td>\n",
              "      <td>8</td>\n",
              "      <td>34.783053</td>\n",
              "    </tr>\n",
              "  </tbody>\n",
              "</table>\n",
              "</div>"
            ],
            "text/plain": [
              "            pretty_formula spacegroup.symbol  formation_energy_per_atom  band_gap  e_above_hull    density      volume  nsites        vpa\n",
              "material_id                                                                                                                              \n",
              "mp-865950            AcAg3          P6_3/mmc                  -0.206854    0.0000           0.0   8.930827  204.751583       8  25.593948\n",
              "mp-866199             AcAg             Pm-3m                  -0.268366    0.0000           0.0   8.859009   62.767941       2  31.383970\n",
              "mp-862617            AcAl3          P6_3/mmc                  -0.368426    0.0000           0.0   5.243536  195.041675       8  24.380209\n",
              "mp-867838            AcAu3          P6_3/mmc                  -0.693050    0.0000           0.0  13.755798  197.466462       8  24.683308\n",
              "mp-27972             AcBr3            P6_3/m                  -2.103586    4.1045           0.0   5.570195  278.264428       8  34.783053"
            ]
          },
          "metadata": {
            "tags": []
          },
          "execution_count": 11
        }
      ]
    },
    {
      "metadata": {
        "id": "gqWEzUkzbM0l",
        "colab_type": "code",
        "colab": {
          "base_uri": "https://localhost:8080/",
          "height": 521
        },
        "outputId": "7d7c40fe-792c-4e5c-ac65-8fb83a634355"
      },
      "cell_type": "code",
      "source": [
        "!pip install pymatgen"
      ],
      "execution_count": 12,
      "outputs": [
        {
          "output_type": "stream",
          "text": [
            "Requirement already satisfied: pymatgen in /usr/local/lib/python3.6/dist-packages (2018.10.18)\n",
            "Requirement already satisfied: tabulate in /usr/local/lib/python3.6/dist-packages (from pymatgen) (0.8.2)\n",
            "Requirement already satisfied: monty>=0.9.6 in /usr/local/lib/python3.6/dist-packages (from pymatgen) (1.0.3)\n",
            "Requirement already satisfied: sympy in /usr/local/lib/python3.6/dist-packages (from pymatgen) (1.1.1)\n",
            "Requirement already satisfied: numpy>=1.14.3 in /usr/local/lib/python3.6/dist-packages (from pymatgen) (1.14.6)\n",
            "Requirement already satisfied: pydispatcher>=2.0.5 in /usr/local/lib/python3.6/dist-packages (from pymatgen) (2.0.5)\n",
            "Requirement already satisfied: networkx>=2.1 in /usr/local/lib/python3.6/dist-packages (from pymatgen) (2.2)\n",
            "Requirement already satisfied: six in /usr/local/lib/python3.6/dist-packages (from pymatgen) (1.11.0)\n",
            "Requirement already satisfied: pandas in /usr/local/lib/python3.6/dist-packages (from pymatgen) (0.22.0)\n",
            "Requirement already satisfied: ruamel.yaml>=0.15.6 in /usr/local/lib/python3.6/dist-packages (from pymatgen) (0.15.75)\n",
            "Requirement already satisfied: scipy>=1.0.1 in /usr/local/lib/python3.6/dist-packages (from pymatgen) (1.1.0)\n",
            "Requirement already satisfied: spglib>=1.9.9.44 in /usr/local/lib/python3.6/dist-packages (from pymatgen) (1.10.4.11)\n",
            "Requirement already satisfied: matplotlib>=1.5 in /usr/local/lib/python3.6/dist-packages (from pymatgen) (2.1.2)\n",
            "Requirement already satisfied: palettable>=2.1.1 in /usr/local/lib/python3.6/dist-packages (from pymatgen) (3.1.1)\n",
            "Requirement already satisfied: requests in /usr/local/lib/python3.6/dist-packages (from pymatgen) (2.18.4)\n",
            "Requirement already satisfied: mpmath>=0.19 in /usr/local/lib/python3.6/dist-packages (from sympy->pymatgen) (1.0.0)\n",
            "Requirement already satisfied: decorator>=4.3.0 in /usr/local/lib/python3.6/dist-packages (from networkx>=2.1->pymatgen) (4.3.0)\n",
            "Requirement already satisfied: pytz>=2011k in /usr/local/lib/python3.6/dist-packages (from pandas->pymatgen) (2018.7)\n",
            "Requirement already satisfied: python-dateutil>=2 in /usr/local/lib/python3.6/dist-packages (from pandas->pymatgen) (2.5.3)\n",
            "Requirement already satisfied: pyparsing!=2.0.4,!=2.1.2,!=2.1.6,>=2.0.1 in /usr/local/lib/python3.6/dist-packages (from matplotlib>=1.5->pymatgen) (2.2.2)\n",
            "Requirement already satisfied: cycler>=0.10 in /usr/local/lib/python3.6/dist-packages (from matplotlib>=1.5->pymatgen) (0.10.0)\n",
            "Requirement already satisfied: certifi>=2017.4.17 in /usr/local/lib/python3.6/dist-packages (from requests->pymatgen) (2018.10.15)\n",
            "Requirement already satisfied: chardet<3.1.0,>=3.0.2 in /usr/local/lib/python3.6/dist-packages (from requests->pymatgen) (3.0.4)\n",
            "Requirement already satisfied: urllib3<1.23,>=1.21.1 in /usr/local/lib/python3.6/dist-packages (from requests->pymatgen) (1.22)\n",
            "Requirement already satisfied: idna<2.7,>=2.5 in /usr/local/lib/python3.6/dist-packages (from requests->pymatgen) (2.6)\n"
          ],
          "name": "stdout"
        }
      ]
    },
    {
      "metadata": {
        "id": "xs5YY7BgasWY",
        "colab_type": "code",
        "colab": {
          "base_uri": "https://localhost:8080/",
          "height": 36
        },
        "outputId": "515d4184-f364-4714-bb40-993372f78f0d"
      },
      "cell_type": "code",
      "source": [
        "# target output column\n",
        "y = df_mp['band_gap'].values\n",
        "\n",
        "# possible descriptor columns\n",
        "X_cols = [c for c in df_mp.columns \n",
        "          if c not in ['band_gap', 'pretty_formula', \n",
        "                       'volume', 'nsites', 'spacegroup.symbol', 'e_above_hull']]\n",
        "X = df_mp.as_matrix(X_cols)\n",
        "\n",
        "print(\"Possible descriptors are: {}\".format(X_cols))"
      ],
      "execution_count": 13,
      "outputs": [
        {
          "output_type": "stream",
          "text": [
            "Possible descriptors are: ['formation_energy_per_atom', 'density', 'vpa']\n"
          ],
          "name": "stdout"
        }
      ]
    },
    {
      "metadata": {
        "id": "yrBapoiPbKnB",
        "colab_type": "code",
        "colab": {
          "base_uri": "https://localhost:8080/",
          "height": 211
        },
        "outputId": "61544e53-dcf9-48df-b3f0-fb9fb5b35cca"
      },
      "cell_type": "code",
      "source": [
        "!pip install sklearn"
      ],
      "execution_count": 14,
      "outputs": [
        {
          "output_type": "stream",
          "text": [
            "Collecting sklearn\n",
            "  Downloading https://files.pythonhosted.org/packages/1e/7a/dbb3be0ce9bd5c8b7e3d87328e79063f8b263b2b1bfa4774cb1147bfcd3f/sklearn-0.0.tar.gz\n",
            "Requirement already satisfied: scikit-learn in /usr/local/lib/python3.6/dist-packages (from sklearn) (0.19.2)\n",
            "Building wheels for collected packages: sklearn\n",
            "  Running setup.py bdist_wheel for sklearn ... \u001b[?25l-\b \bdone\n",
            "\u001b[?25h  Stored in directory: /root/.cache/pip/wheels/76/03/bb/589d421d27431bcd2c6da284d5f2286c8e3b2ea3cf1594c074\n",
            "Successfully built sklearn\n",
            "Installing collected packages: sklearn\n",
            "Successfully installed sklearn-0.0\n"
          ],
          "name": "stdout"
        }
      ]
    },
    {
      "metadata": {
        "id": "f04LzYfAc96A",
        "colab_type": "code",
        "colab": {
          "base_uri": "https://localhost:8080/",
          "height": 56
        },
        "outputId": "7f297886-ecd9-40e2-c318-a83fd215c1e5"
      },
      "cell_type": "code",
      "source": [
        "from sklearn.linear_model import LinearRegression\n",
        "from sklearn.metrics import mean_squared_error\n",
        "\n",
        "linear_regression = LinearRegression()\n",
        "\n",
        "linear_regression.fit(X, y)\n",
        "\n",
        "# get fit statistics\n",
        "print ('R2 = ' + str(round(linear_regression.score(X, y), 3)))\n",
        "print ('RMSE = %.3f' % np.sqrt(mean_squared_error(y_true=y, y_pred=linear_regression.predict(X))))"
      ],
      "execution_count": 16,
      "outputs": [
        {
          "output_type": "stream",
          "text": [
            "R2 = 0.463\n",
            "RMSE = 1.020\n"
          ],
          "name": "stdout"
        }
      ]
    },
    {
      "metadata": {
        "id": "rL5J02EgdJ5T",
        "colab_type": "code",
        "colab": {
          "base_uri": "https://localhost:8080/",
          "height": 56
        },
        "outputId": "64878f72-2550-452a-a1b6-0a6937f0838c"
      },
      "cell_type": "code",
      "source": [
        "from sklearn.ensemble import RandomForestRegressor\n",
        "\n",
        "RF_rg = RandomForestRegressor(n_estimators=50, random_state=1)\n",
        "\n",
        "RF_rg.fit(X, y)\n",
        "print ('R2 = ' + str(round(RF_rg.score(X, y), 3)))\n",
        "print ('RMSE = %.3f' % np.sqrt(mean_squared_error(y_true=y, y_pred=RF_rg.predict(X))))"
      ],
      "execution_count": 17,
      "outputs": [
        {
          "output_type": "stream",
          "text": [
            "R2 = 0.975\n",
            "RMSE = 0.221\n"
          ],
          "name": "stdout"
        }
      ]
    },
    {
      "metadata": {
        "id": "4o-qwIGNdSGv",
        "colab_type": "code",
        "colab": {}
      },
      "cell_type": "code",
      "source": [
        "%matplotlib inline\n",
        "import matplotlib.pyplot as plt"
      ],
      "execution_count": 0,
      "outputs": []
    },
    {
      "metadata": {
        "id": "A2hMBHoA3Za-",
        "colab_type": "code",
        "colab": {
          "base_uri": "https://localhost:8080/",
          "height": 352
        },
        "outputId": "f353303d-b021-4b2b-be4f-63c3466f7de0"
      },
      "cell_type": "code",
      "source": [
        "fig = plt.figure()\n",
        "ax = fig.add_subplot(1,1,1)\n",
        "line1 = ax.plot(y, RF_rg.predict(X), \"r.\")\n",
        "line2 = ax.plot([0,1,2,3,4,5,6,7,8,9], \"b\")\n",
        "print('line1:', line1)\n",
        "print('line2:', line2)\n",
        "ax.set_xlabel('DFT band gap')\n",
        "ax.set_ylabel('Random forest band gap (eV)')\n",
        "ax.set_title('Random forest regression')"
      ],
      "execution_count": 22,
      "outputs": [
        {
          "output_type": "stream",
          "text": [
            "line1: [<matplotlib.lines.Line2D object at 0x7fd203296198>]\n",
            "line2: [<matplotlib.lines.Line2D object at 0x7fd20326fb38>]\n"
          ],
          "name": "stdout"
        },
        {
          "output_type": "execute_result",
          "data": {
            "text/plain": [
              "Text(0.5,1,'Random forest regression')"
            ]
          },
          "metadata": {
            "tags": []
          },
          "execution_count": 22
        },
        {
          "output_type": "display_data",
          "data": {
            "image/png": "[encoded data removed]",
            "text/plain": [
              "<matplotlib.figure.Figure at 0x7fd20333f828>"
            ]
          },
          "metadata": {
            "tags": []
          }
        }
      ]
    },
    {
      "metadata": {
        "id": "Mam9HI5N8u6B",
        "colab_type": "code",
        "colab": {
          "base_uri": "https://localhost:8080/",
          "height": 56
        },
        "outputId": "bd02517e-d846-4ae4-c5c4-03be6625dcab"
      },
      "cell_type": "code",
      "source": [
        "from sklearn.cross_validation import KFold, cross_val_score\n",
        "\n",
        "# Use 10-fold cross validation (90% training, 10% test)\n",
        "crossvalidation = KFold(n=X.shape[0], n_folds=10, shuffle=True, random_state=1)\n",
        "\n",
        "# compute cross validation scores for random forest model\n",
        "scores = cross_val_score(linear_regression, X, y, scoring='neg_mean_squared_error', \n",
        "                         cv=crossvalidation, n_jobs=1)\n",
        "rmse_scores = [np.sqrt(abs(s)) for s in scores]\n",
        "\n",
        "print ('Cross-validation results:')\n",
        "print ('Folds: %i, mean RMSE: %.3f' % (len(scores), np.mean(np.abs(rmse_scores))))"
      ],
      "execution_count": 27,
      "outputs": [
        {
          "output_type": "stream",
          "text": [
            "Cross-validation results:\n",
            "Folds: 10, mean RMSE: 1.020\n"
          ],
          "name": "stdout"
        }
      ]
    },
    {
      "metadata": {
        "id": "DQXonYSS3lB0",
        "colab_type": "code",
        "colab": {
          "base_uri": "https://localhost:8080/",
          "height": 56
        },
        "outputId": "17e4582e-61e0-4d15-85bf-9cb68b2d5090"
      },
      "cell_type": "code",
      "source": [
        "# compute cross validation scores for random forest model\n",
        "scores = cross_val_score(RF_rg, X, y, scoring='neg_mean_squared_error', \n",
        "                         cv=crossvalidation, n_jobs=1)\n",
        "\n",
        "rmse_scores = [np.sqrt(abs(s)) for s in scores]\n",
        "\n",
        "print ('Cross-validation results:')\n",
        "print ('Folds: %i, mean RMSE: %.3f' % (len(scores), np.mean(np.abs(rmse_scores))))"
      ],
      "execution_count": 28,
      "outputs": [
        {
          "output_type": "stream",
          "text": [
            "Cross-validation results:\n",
            "Folds: 10, mean RMSE: 0.592\n"
          ],
          "name": "stdout"
        }
      ]
    },
    {
      "metadata": {
        "id": "LnTdNcCo8Jz9",
        "colab_type": "code",
        "colab": {}
      },
      "cell_type": "code",
      "source": [
        "importances = RF_rg.feature_importances_\n",
        "indices = np.argsort(importances)[::-1]"
      ],
      "execution_count": 0,
      "outputs": []
    },
    {
      "metadata": {
        "id": "lZe8sd7XCejs",
        "colab_type": "code",
        "colab": {}
      },
      "cell_type": "code",
      "source": [
        ""
      ],
      "execution_count": 0,
      "outputs": []
    }
  ]
}